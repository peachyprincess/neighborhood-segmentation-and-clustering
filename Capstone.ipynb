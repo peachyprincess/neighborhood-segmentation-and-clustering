{
 "cells": [
  {
   "cell_type": "markdown",
   "metadata": {},
   "source": [
    "This notebook is for Applied Data Science Capstone taught by IBM."
   ]
  },
  {
   "cell_type": "code",
   "execution_count": 6,
   "metadata": {},
   "outputs": [],
   "source": [
    "import json, requests\n",
    "import numpy as np\n",
    "import pandas as pd"
   ]
  },
  {
   "cell_type": "markdown",
   "metadata": {},
   "source": [
    "Load client ID and client secret for accessing the Foursquare API end points."
   ]
  },
  {
   "cell_type": "code",
   "execution_count": 11,
   "metadata": {},
   "outputs": [
    {
     "name": "stdout",
     "output_type": "stream",
     "text": [
      "D4K1ZKCUYZBKUEQOJWAHDGRHHMI3ZPZFFE0XHCSBFZKYOVMD\n",
      "\n"
     ]
    }
   ],
   "source": [
    "f = open(\"client_id\", \"r\")\n",
    "client_id = f.read()\n",
    "f = open(\"client_secret\", \"r\")\n",
    "client_secret = f.read()\n",
    "print(client_secret)"
   ]
  },
  {
   "cell_type": "markdown",
   "metadata": {},
   "source": [
    "The examples below show you how to find a coffee shop near a given location."
   ]
  },
  {
   "cell_type": "code",
   "execution_count": 8,
   "metadata": {},
   "outputs": [],
   "source": [
    "url = 'https://api.foursquare.com/v2/venues/explore'\n",
    "\n",
    "params = dict(\n",
    "client_id=client_id,\n",
    "client_secret=client_secret,\n",
    "v='20180323',\n",
    "ll='40.7243,-74.0018',\n",
    "query='coffee',\n",
    "limit=1\n",
    ")\n",
    "resp = requests.get(url=url, params=params)\n",
    "data = json.loads(resp.text)"
   ]
  },
  {
   "cell_type": "code",
   "execution_count": 9,
   "metadata": {},
   "outputs": [
    {
     "name": "stdout",
     "output_type": "stream",
     "text": [
      "{'meta': {'code': 200, 'requestId': '6031bed8d8aada4ab575db9e'}, 'response': {'suggestedFilters': {'header': 'Tap to show:', 'filters': [{'name': 'Open now', 'key': 'openNow'}, {'name': '$-$$$$', 'key': 'price'}]}, 'warning': {'text': 'There aren\\'t a lot of results for \"coffee.\" Try something more general, reset your filters, or expand the search area.'}, 'suggestedRadius': 600, 'headerLocation': 'SoHo', 'headerFullLocation': 'SoHo, New York', 'headerLocationGranularity': 'neighborhood', 'query': 'coffee', 'totalResults': 62, 'suggestedBounds': {'ne': {'lat': 40.72445115622661, 'lng': -74.00383671516222}, 'sw': {'lat': 40.72175149644116, 'lng': -74.00111827835521}}, 'groups': [{'type': 'Recommended Places', 'name': 'recommended', 'items': [{'reasons': {'count': 0, 'items': [{'summary': 'This spot is popular', 'type': 'general', 'reasonName': 'globalInteractionReason'}]}, 'venue': {'id': '45e98bacf964a52080431fe3', 'name': 'MarieBelle', 'contact': {}, 'location': {'address': '484 Broome St', 'crossStreet': 'btwn W Broadway & Wooster St', 'lat': 40.72310132633388, 'lng': -74.00247749675871, 'labeledLatLngs': [{'label': 'display', 'lat': 40.72310132633388, 'lng': -74.00247749675871}], 'distance': 145, 'postalCode': '10013', 'cc': 'US', 'city': 'New York', 'state': 'NY', 'country': 'United States', 'formattedAddress': ['484 Broome St (btwn W Broadway & Wooster St)', 'New York, NY 10013', 'United States']}, 'categories': [{'id': '4bf58dd8d48988d1d0941735', 'name': 'Dessert Shop', 'pluralName': 'Dessert Shops', 'shortName': 'Desserts', 'icon': {'prefix': 'https://ss3.4sqi.net/img/categories_v2/food/dessert_', 'suffix': '.png'}, 'primary': True}], 'verified': True, 'stats': {'tipCount': 0, 'usersCount': 0, 'checkinsCount': 0, 'visitsCount': 0}, 'delivery': {'id': '488596', 'url': 'https://www.seamless.com/menu/marie-belle-new-york-484-broome-st-new-york/488596?affiliate=1131&utm_source=foursquare-affiliate-network&utm_medium=affiliate&utm_campaign=1131&utm_content=488596', 'provider': {'name': 'seamless', 'icon': {'prefix': 'https://fastly.4sqi.net/img/general/cap/', 'sizes': [40, 50], 'name': '/delivery_provider_seamless_20180129.png'}}}, 'beenHere': {'count': 0, 'lastCheckinExpiredAt': 0, 'marked': False, 'unconfirmedCount': 0}, 'photos': {'count': 0, 'groups': []}, 'venuePage': {'id': '81170724'}, 'hereNow': {'count': 0, 'summary': 'Nobody here', 'groups': []}}, 'referralId': 'e-0-45e98bacf964a52080431fe3-0'}]}]}}\n"
     ]
    }
   ],
   "source": [
    "print(data)"
   ]
  },
  {
   "cell_type": "code",
   "execution_count": null,
   "metadata": {},
   "outputs": [],
   "source": []
  }
 ],
 "metadata": {
  "kernelspec": {
   "display_name": "Python 3",
   "language": "python",
   "name": "python3"
  },
  "language_info": {
   "codemirror_mode": {
    "name": "ipython",
    "version": 3
   },
   "file_extension": ".py",
   "mimetype": "text/x-python",
   "name": "python",
   "nbconvert_exporter": "python",
   "pygments_lexer": "ipython3",
   "version": "3.9.1"
  }
 },
 "nbformat": 4,
 "nbformat_minor": 4
}
